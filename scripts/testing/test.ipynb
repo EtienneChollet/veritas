{
 "cells": [
  {
   "cell_type": "code",
   "execution_count": 2,
   "metadata": {},
   "outputs": [
    {
     "name": "stderr",
     "output_type": "stream",
     "text": [
      "/autofs/cluster/octdata2/users/epc28/miniconda/envs/vesselsynth/lib/python3.10/site-packages/torchvision/io/image.py:13: UserWarning: Failed to load image Python extension: '/autofs/cluster/octdata2/users/epc28/miniconda/envs/vesselsynth/lib/python3.10/site-packages/torchvision/image.so: undefined symbol: _ZN3c106detail23torchInternalAssertFailEPKcS2_jS2_RKSs'If you don't plan on using image functionality from `torchvision.io`, you can ignore this warning. Otherwise, there might be something wrong with your environment. Did you have `libjpeg` or `libpng` installed before building `torchvision` from source?\n",
      "  warn(\n"
     ]
    }
   ],
   "source": [
    "import os\n",
    "import sys\n",
    "import json\n",
    "import math\n",
    "import numpy as np\n",
    "from glob import glob\n",
    "from PIL import Image\n",
    "import nibabel as nib\n",
    "\n",
    "import torch\n",
    "from torch import nn\n",
    "from torch.utils import data\n",
    "import torch.multiprocessing as mp\n",
    "\n",
    "from pytorch_lightning import Trainer\n",
    "from pytorch_lightning.loggers import TensorBoardLogger\n",
    "from pytorch_lightning.callbacks import ModelCheckpoint\n",
    "\n",
    "\n",
    "sys.path.insert(0, \"../../cornucopia\")\n",
    "import cornucopia as cc\n",
    "\n",
    "os.environ['PYTORCH_JIT_USE_NNC_NOT_NVFUSER'] = '1'\n",
    "torch.set_float32_matmul_precision('medium')\n"
   ]
  },
  {
   "cell_type": "code",
   "execution_count": 3,
   "metadata": {},
   "outputs": [],
   "source": [
    "\n",
    "oct_vol_path = \"/cluster/octdata/users/cmagnain/190312_I46_SomatoSensory/I46_Somatosensory_20um_crop.nii\"\n",
    "label_path = \"/cluster/octdata/users/cmagnain/190312_I46_SomatoSensory/Vessels_20um_crop_v4.nii\"\n",
    "\n",
    "class RealData(object):\n",
    "\n",
    "    def __init__(self, path, label):\n",
    "        self.label = label\n",
    "        self.path = path\n",
    "        self.nifti = nib.load(self.path)\n",
    "        self.tensor = self.loadTensor(torch.float32)\n",
    "        self.tensor1 = self.tensor\n",
    "        self.affine = torch.tensor(self.nifti.affine)\n",
    "        \n",
    "\n",
    "    def loadTensor(self, dtype):\n",
    "        if self.label == False:\n",
    "            self.tensor = torch.tensor(self.nifti.get_fdata(), dtype=dtype)\n",
    "            self.tensor = cc.QuantileTransform(pmin=0, pmax=1, vmin=0.05, vmax=0.95, clamp=False)(self.tensor)\n",
    "            \n",
    "        elif self.label == True:\n",
    "            self.tensor = torch.tensor(self.nifti.get_fdata(), dtype=dtype)\n",
    "            self.tensor[self.tensor <= 0] = 0\n",
    "            self.tensor[self.tensor > 0] = 1\n",
    "            #label.tensor.unique(return_counts=True)\n",
    "        else:\n",
    "            self.tensor = None\n",
    "\n",
    "        return self.tensor\n",
    "\n",
    "\n",
    "    def vis(self, tensor=None, slice=False):\n",
    "        '''Example RealData(path).vis()'''\n",
    "\n",
    "        if tensor == None:\n",
    "            self.arr = self.tensor.numpy().astype(np.float32)\n",
    "        else:\n",
    "            self.arr = tensor.numpy().astype(np.float32)\n",
    "\n",
    "        if slice == False:\n",
    "            slice = self.arr.shape[0] // 2\n",
    "        else:\n",
    "            pass\n",
    "\n",
    "        if self.label == False:\n",
    "            arr = self.arr[slice] * 255\n",
    "            img = Image.fromarray(arr.astype(np.uint8))\n",
    "        elif self.label == True:\n",
    "            arr = self.arr[slice] * 255\n",
    "            img = Image.fromarray(arr.astype(np.uint8))\n",
    "        else:\n",
    "            pass\n",
    "        return img\n",
    "    \n",
    "    #def augment(self):\n",
    "        \n",
    "\n",
    "oct = RealData(oct_vol_path, label=False)\n",
    "label = RealData(label_path, label=True)"
   ]
  },
  {
   "cell_type": "code",
   "execution_count": 594,
   "metadata": {},
   "outputs": [],
   "source": [
    "#oct.vis()\n",
    "#label.vis()"
   ]
  },
  {
   "cell_type": "code",
   "execution_count": 4,
   "metadata": {},
   "outputs": [],
   "source": [
    "import torchvision.transforms as T\n",
    "\n",
    "class Augmentation(object):\n",
    "\n",
    "    def __init__(self):\n",
    "        self.flip = cc.RandomFlipTransform()\n",
    "        self.gamma = cc.RandomGammaTransform((0.5, 2))\n",
    "        self.rescale = cc.QuantileTransform(pmin=0, pmax=1, vmin=0.05, vmax=0.95, clamp=True)\n",
    "        \n",
    "        self.random_crop = T.RandomResizedCrop(256)\n",
    "        self.perspective = T.RandomPerspective()\n",
    "\n",
    "    \n",
    "    def run(self, t1, t2):\n",
    "        x = t1.tensor.clone()#.detach()\n",
    "        y = t2.tensor.clone()#.detach()\n",
    "\n",
    "        x = self.rescale(x)\n",
    "        x = self.gamma(x)\n",
    "\n",
    "        x, y = self.flip(x, y)\n",
    "        both_images = torch.cat((x.unsqueeze(0), y.unsqueeze(0)), 0)\n",
    "        \n",
    "        ### BEGIN TRANSFORMING\n",
    "        both_images = self.random_crop(both_images)\n",
    "        both_images = self.perspective(both_images)\n",
    "        both_images = T.ElasticTransform()(both_images)\n",
    "        both_images = T.RandomRotation(180)(both_images)\n",
    "\n",
    "        x = both_images[0]\n",
    "        y = both_images[1]\n",
    "        x = self.rescale(x)\n",
    "        \n",
    "        z_high = int(torch.randint(256, x.shape[0], [1]))\n",
    "        z_low = z_high - 256\n",
    "\n",
    "        x = x[z_low:z_high][:][:]\n",
    "\n",
    "        return x, y\n"
   ]
  },
  {
   "cell_type": "code",
   "execution_count": 6,
   "metadata": {},
   "outputs": [
    {
     "data": {
      "image/png": "[encoded data removed]",
      "text/plain": [
       "<PIL.Image.Image image mode=L size=256x256>"
      ]
     },
     "execution_count": 6,
     "metadata": {},
     "output_type": "execute_result"
    }
   ],
   "source": [
    "x, y = Augmentation().run(oct, label)\n",
    "\n",
    "oct.vis(x)"
   ]
  },
  {
   "cell_type": "code",
   "execution_count": 7,
   "metadata": {},
   "outputs": [
    {
     "data": {
      "text/plain": [
       "tensor([0.0500, 0.0500, 0.0500,  ..., 0.9499, 0.9500, 0.9500])"
      ]
     },
     "execution_count": 7,
     "metadata": {},
     "output_type": "execute_result"
    }
   ],
   "source": [
    "x.unique()"
   ]
  },
  {
   "cell_type": "code",
   "execution_count": 10,
   "metadata": {},
   "outputs": [
    {
     "name": "stderr",
     "output_type": "stream",
     "text": [
      "/home/scratch/ipykernel_1821248/2329103839.py:1: UserWarning: To copy construct from a tensor, it is recommended to use sourceTensor.clone().detach() or sourceTensor.clone().detach().requires_grad_(True), rather than torch.tensor(sourceTensor).\n",
      "  affine = torch.tensor(oct.affine, dtype=torch.float64)\n"
     ]
    },
    {
     "name": "stdout",
     "output_type": "stream",
     "text": [
      "0\n"
     ]
    },
    {
     "name": "stderr",
     "output_type": "stream",
     "text": [
      "/autofs/cluster/octdata2/users/epc28/miniconda/envs/vesselsynth/lib/python3.10/site-packages/torchvision/transforms/functional.py:1603: UserWarning: The default value of the antialias parameter of all the resizing transforms (Resize(), RandomResizedCrop(), etc.) will change from None to True in v0.17, in order to be consistent across the PIL and Tensor backends. To suppress this warning, directly pass antialias=True (recommended, future default), antialias=None (current default, which means False for Tensors and True for PIL), or antialias=False (only works on Tensors - PIL will still use antialiasing). This also applies if you are using the inference transforms from the models weights: update the call to weights.transforms(antialias=True).\n",
      "  warnings.warn(\n"
     ]
    },
    {
     "name": "stdout",
     "output_type": "stream",
     "text": [
      "1\n",
      "2\n",
      "3\n",
      "4\n",
      "5\n",
      "6\n",
      "7\n",
      "8\n",
      "9\n",
      "10\n",
      "11\n",
      "12\n",
      "13\n",
      "14\n",
      "15\n",
      "16\n",
      "17\n",
      "18\n",
      "19\n"
     ]
    },
    {
     "ename": "KeyboardInterrupt",
     "evalue": "",
     "output_type": "error",
     "traceback": [
      "\u001b[0;31m---------------------------------------------------------------------------\u001b[0m",
      "\u001b[0;31mKeyboardInterrupt\u001b[0m                         Traceback (most recent call last)",
      "Cell \u001b[0;32mIn[10], line 5\u001b[0m\n\u001b[1;32m      3\u001b[0m \u001b[39mfor\u001b[39;00m i \u001b[39min\u001b[39;00m \u001b[39mrange\u001b[39m(\u001b[39m500\u001b[39m):\n\u001b[1;32m      4\u001b[0m     \u001b[39mprint\u001b[39m(i)\n\u001b[0;32m----> 5\u001b[0m     x, y \u001b[39m=\u001b[39m Augmentation()\u001b[39m.\u001b[39;49mrun(\u001b[39moct\u001b[39;49m, label)\n\u001b[1;32m      6\u001b[0m     x \u001b[39m=\u001b[39m x\u001b[39m.\u001b[39mdetach()\u001b[39m.\u001b[39mcpu()\u001b[39m.\u001b[39mnumpy()\n\u001b[1;32m      7\u001b[0m     y \u001b[39m=\u001b[39m y\u001b[39m.\u001b[39mdetach()\u001b[39m.\u001b[39mcpu()\u001b[39m.\u001b[39mnumpy()\n",
      "Cell \u001b[0;32mIn[4], line 19\u001b[0m, in \u001b[0;36mAugmentation.run\u001b[0;34m(self, t1, t2)\u001b[0m\n\u001b[1;32m     16\u001b[0m y \u001b[39m=\u001b[39m t2\u001b[39m.\u001b[39mtensor\u001b[39m.\u001b[39mclone()\u001b[39m#.detach()\u001b[39;00m\n\u001b[1;32m     18\u001b[0m x \u001b[39m=\u001b[39m \u001b[39mself\u001b[39m\u001b[39m.\u001b[39mrescale(x)\n\u001b[0;32m---> 19\u001b[0m x \u001b[39m=\u001b[39m \u001b[39mself\u001b[39;49m\u001b[39m.\u001b[39;49mgamma(x)\n\u001b[1;32m     21\u001b[0m x, y \u001b[39m=\u001b[39m \u001b[39mself\u001b[39m\u001b[39m.\u001b[39mflip(x, y)\n\u001b[1;32m     22\u001b[0m both_images \u001b[39m=\u001b[39m torch\u001b[39m.\u001b[39mcat((x\u001b[39m.\u001b[39munsqueeze(\u001b[39m0\u001b[39m), y\u001b[39m.\u001b[39munsqueeze(\u001b[39m0\u001b[39m)), \u001b[39m0\u001b[39m)\n",
      "File \u001b[0;32m/autofs/cluster/octdata2/users/epc28/miniconda/envs/vesselsynth/lib/python3.10/site-packages/torch/nn/modules/module.py:1501\u001b[0m, in \u001b[0;36mModule._call_impl\u001b[0;34m(self, *args, **kwargs)\u001b[0m\n\u001b[1;32m   1496\u001b[0m \u001b[39m# If we don't have any hooks, we want to skip the rest of the logic in\u001b[39;00m\n\u001b[1;32m   1497\u001b[0m \u001b[39m# this function, and just call forward.\u001b[39;00m\n\u001b[1;32m   1498\u001b[0m \u001b[39mif\u001b[39;00m \u001b[39mnot\u001b[39;00m (\u001b[39mself\u001b[39m\u001b[39m.\u001b[39m_backward_hooks \u001b[39mor\u001b[39;00m \u001b[39mself\u001b[39m\u001b[39m.\u001b[39m_backward_pre_hooks \u001b[39mor\u001b[39;00m \u001b[39mself\u001b[39m\u001b[39m.\u001b[39m_forward_hooks \u001b[39mor\u001b[39;00m \u001b[39mself\u001b[39m\u001b[39m.\u001b[39m_forward_pre_hooks\n\u001b[1;32m   1499\u001b[0m         \u001b[39mor\u001b[39;00m _global_backward_pre_hooks \u001b[39mor\u001b[39;00m _global_backward_hooks\n\u001b[1;32m   1500\u001b[0m         \u001b[39mor\u001b[39;00m _global_forward_hooks \u001b[39mor\u001b[39;00m _global_forward_pre_hooks):\n\u001b[0;32m-> 1501\u001b[0m     \u001b[39mreturn\u001b[39;00m forward_call(\u001b[39m*\u001b[39;49margs, \u001b[39m*\u001b[39;49m\u001b[39m*\u001b[39;49mkwargs)\n\u001b[1;32m   1502\u001b[0m \u001b[39m# Do not call functions when jit is used\u001b[39;00m\n\u001b[1;32m   1503\u001b[0m full_backward_hooks, non_full_backward_hooks \u001b[39m=\u001b[39m [], []\n",
      "File \u001b[0;32m/autofs/cluster/octdata2/users/epc28/veritas/scripts/testing/../../cornucopia/cornucopia/base.py:240\u001b[0m, in \u001b[0;36mTransform.forward\u001b[0;34m(self, *a, **k)\u001b[0m\n\u001b[1;32m    238\u001b[0m         x0 \u001b[39m=\u001b[39m x0[\u001b[39m0\u001b[39m, \u001b[39mNone\u001b[39;00m]\n\u001b[1;32m    239\u001b[0m     theta \u001b[39m=\u001b[39m \u001b[39mself\u001b[39m\u001b[39m.\u001b[39mget_parameters(x0)\n\u001b[0;32m--> 240\u001b[0m     x \u001b[39m=\u001b[39m \u001b[39mself\u001b[39;49m\u001b[39m.\u001b[39;49mforward_with_parameters(x, parameters\u001b[39m=\u001b[39;49mtheta)\n\u001b[1;32m    241\u001b[0m     \u001b[39mreturn\u001b[39;00m outtype(x)\n\u001b[1;32m    243\u001b[0m \u001b[39m# not shared across images -> unfold\u001b[39;00m\n",
      "File \u001b[0;32m/autofs/cluster/octdata2/users/epc28/veritas/scripts/testing/../../cornucopia/cornucopia/base.py:290\u001b[0m, in \u001b[0;36mTransform.forward_with_parameters\u001b[0;34m(self, x, parameters)\u001b[0m\n\u001b[1;32m    287\u001b[0m \u001b[39mif\u001b[39;00m \u001b[39misinstance\u001b[39m(x, (\u001b[39mlist\u001b[39m, \u001b[39mtuple\u001b[39m)):\n\u001b[1;32m    288\u001b[0m     \u001b[39mreturn\u001b[39;00m \u001b[39mtype\u001b[39m(x)(\u001b[39mself\u001b[39m\u001b[39m.\u001b[39mforward_with_parameters(elem, parameters\u001b[39m=\u001b[39mparameters)\n\u001b[1;32m    289\u001b[0m                    \u001b[39mfor\u001b[39;00m elem \u001b[39min\u001b[39;00m x)\n\u001b[0;32m--> 290\u001b[0m \u001b[39mreturn\u001b[39;00m \u001b[39mself\u001b[39;49m\u001b[39m.\u001b[39;49mapply_transform(x, parameters\u001b[39m=\u001b[39;49mparameters)\n",
      "File \u001b[0;32m/autofs/cluster/octdata2/users/epc28/veritas/scripts/testing/../../cornucopia/cornucopia/base.py:647\u001b[0m, in \u001b[0;36mRandomizedTransform.apply_transform\u001b[0;34m(self, x, parameters)\u001b[0m\n\u001b[1;32m    644\u001b[0m \u001b[39mdef\u001b[39;00m \u001b[39mapply_transform\u001b[39m(\u001b[39mself\u001b[39m, x, parameters):\n\u001b[1;32m    645\u001b[0m     \u001b[39mwith\u001b[39;00m include(parameters, \u001b[39mself\u001b[39m\u001b[39m.\u001b[39m_include), \\\n\u001b[1;32m    646\u001b[0m          exclude(parameters, \u001b[39mself\u001b[39m\u001b[39m.\u001b[39m_exclude):\n\u001b[0;32m--> 647\u001b[0m         \u001b[39mreturn\u001b[39;00m parameters(x)\n",
      "File \u001b[0;32m/autofs/cluster/octdata2/users/epc28/miniconda/envs/vesselsynth/lib/python3.10/site-packages/torch/nn/modules/module.py:1501\u001b[0m, in \u001b[0;36mModule._call_impl\u001b[0;34m(self, *args, **kwargs)\u001b[0m\n\u001b[1;32m   1496\u001b[0m \u001b[39m# If we don't have any hooks, we want to skip the rest of the logic in\u001b[39;00m\n\u001b[1;32m   1497\u001b[0m \u001b[39m# this function, and just call forward.\u001b[39;00m\n\u001b[1;32m   1498\u001b[0m \u001b[39mif\u001b[39;00m \u001b[39mnot\u001b[39;00m (\u001b[39mself\u001b[39m\u001b[39m.\u001b[39m_backward_hooks \u001b[39mor\u001b[39;00m \u001b[39mself\u001b[39m\u001b[39m.\u001b[39m_backward_pre_hooks \u001b[39mor\u001b[39;00m \u001b[39mself\u001b[39m\u001b[39m.\u001b[39m_forward_hooks \u001b[39mor\u001b[39;00m \u001b[39mself\u001b[39m\u001b[39m.\u001b[39m_forward_pre_hooks\n\u001b[1;32m   1499\u001b[0m         \u001b[39mor\u001b[39;00m _global_backward_pre_hooks \u001b[39mor\u001b[39;00m _global_backward_hooks\n\u001b[1;32m   1500\u001b[0m         \u001b[39mor\u001b[39;00m _global_forward_hooks \u001b[39mor\u001b[39;00m _global_forward_pre_hooks):\n\u001b[0;32m-> 1501\u001b[0m     \u001b[39mreturn\u001b[39;00m forward_call(\u001b[39m*\u001b[39;49margs, \u001b[39m*\u001b[39;49m\u001b[39m*\u001b[39;49mkwargs)\n\u001b[1;32m   1502\u001b[0m \u001b[39m# Do not call functions when jit is used\u001b[39;00m\n\u001b[1;32m   1503\u001b[0m full_backward_hooks, non_full_backward_hooks \u001b[39m=\u001b[39m [], []\n",
      "File \u001b[0;32m/autofs/cluster/octdata2/users/epc28/veritas/scripts/testing/../../cornucopia/cornucopia/base.py:257\u001b[0m, in \u001b[0;36mTransform.forward\u001b[0;34m(self, *a, **k)\u001b[0m\n\u001b[1;32m    255\u001b[0m \u001b[39m# now we're working with a single tensor (or str)\u001b[39;00m\n\u001b[1;32m    256\u001b[0m \u001b[39mif\u001b[39;00m \u001b[39mself\u001b[39m\u001b[39m.\u001b[39mshared \u001b[39mis\u001b[39;00m \u001b[39mFalse\u001b[39;00m:\n\u001b[0;32m--> 257\u001b[0m     \u001b[39mreturn\u001b[39;00m outtype(\u001b[39mself\u001b[39;49m\u001b[39m.\u001b[39;49mtransform_tensor_perchannel(x))\n\u001b[1;32m    258\u001b[0m \u001b[39melse\u001b[39;00m:\n\u001b[1;32m    259\u001b[0m     \u001b[39mreturn\u001b[39;00m outtype(\u001b[39mself\u001b[39m\u001b[39m.\u001b[39mtransform_tensor(x))\n",
      "File \u001b[0;32m/autofs/cluster/octdata2/users/epc28/veritas/scripts/testing/../../cornucopia/cornucopia/base.py:326\u001b[0m, in \u001b[0;36mTransform.transform_tensor_perchannel\u001b[0;34m(self, x)\u001b[0m\n\u001b[1;32m    324\u001b[0m \u001b[39m# DEV: This function should usually not be overloaded\u001b[39;00m\n\u001b[1;32m    325\u001b[0m channels \u001b[39m=\u001b[39m x\u001b[39m.\u001b[39munbind(\u001b[39m0\u001b[39m)\n\u001b[0;32m--> 326\u001b[0m channels \u001b[39m=\u001b[39m [\u001b[39mself\u001b[39m\u001b[39m.\u001b[39mtransform_tensor(c[\u001b[39mNone\u001b[39;00m]) \u001b[39mfor\u001b[39;00m c \u001b[39min\u001b[39;00m channels]\n\u001b[1;32m    327\u001b[0m \u001b[39mreturn\u001b[39;00m _recursive_cat(channels, dim\u001b[39m=\u001b[39m\u001b[39m0\u001b[39m)\n",
      "File \u001b[0;32m/autofs/cluster/octdata2/users/epc28/veritas/scripts/testing/../../cornucopia/cornucopia/base.py:326\u001b[0m, in \u001b[0;36m<listcomp>\u001b[0;34m(.0)\u001b[0m\n\u001b[1;32m    324\u001b[0m \u001b[39m# DEV: This function should usually not be overloaded\u001b[39;00m\n\u001b[1;32m    325\u001b[0m channels \u001b[39m=\u001b[39m x\u001b[39m.\u001b[39munbind(\u001b[39m0\u001b[39m)\n\u001b[0;32m--> 326\u001b[0m channels \u001b[39m=\u001b[39m [\u001b[39mself\u001b[39;49m\u001b[39m.\u001b[39;49mtransform_tensor(c[\u001b[39mNone\u001b[39;49;00m]) \u001b[39mfor\u001b[39;00m c \u001b[39min\u001b[39;00m channels]\n\u001b[1;32m    327\u001b[0m \u001b[39mreturn\u001b[39;00m _recursive_cat(channels, dim\u001b[39m=\u001b[39m\u001b[39m0\u001b[39m)\n",
      "File \u001b[0;32m/autofs/cluster/octdata2/users/epc28/veritas/scripts/testing/../../cornucopia/cornucopia/base.py:308\u001b[0m, in \u001b[0;36mTransform.transform_tensor\u001b[0;34m(self, x)\u001b[0m\n\u001b[1;32m    306\u001b[0m \u001b[39m# DEV: this function can be overloaded if `shared` is not supported\u001b[39;00m\n\u001b[1;32m    307\u001b[0m theta \u001b[39m=\u001b[39m \u001b[39mself\u001b[39m\u001b[39m.\u001b[39mget_parameters(x)\n\u001b[0;32m--> 308\u001b[0m \u001b[39mreturn\u001b[39;00m \u001b[39mself\u001b[39;49m\u001b[39m.\u001b[39;49mapply_transform(x, parameters\u001b[39m=\u001b[39;49mtheta)\n",
      "File \u001b[0;32m/autofs/cluster/octdata2/users/epc28/veritas/scripts/testing/../../cornucopia/cornucopia/intensity.py:262\u001b[0m, in \u001b[0;36mGammaTransform.apply_transform\u001b[0;34m(self, x, parameters)\u001b[0m\n\u001b[1;32m    259\u001b[0m vmin, vmax \u001b[39m=\u001b[39m parameters\n\u001b[1;32m    261\u001b[0m x \u001b[39m=\u001b[39m x\u001b[39m.\u001b[39msub(vmin)\u001b[39m.\u001b[39mdiv_(vmax \u001b[39m-\u001b[39m vmin)\n\u001b[0;32m--> 262\u001b[0m x \u001b[39m=\u001b[39m x\u001b[39m.\u001b[39;49mpow_(\u001b[39mself\u001b[39;49m\u001b[39m.\u001b[39;49mgamma)\n\u001b[1;32m    263\u001b[0m x \u001b[39m=\u001b[39m x\u001b[39m.\u001b[39mmul_(vmax \u001b[39m-\u001b[39m vmin)\u001b[39m.\u001b[39madd_(vmin)\n\u001b[1;32m    265\u001b[0m \u001b[39mreturn\u001b[39;00m x\n",
      "\u001b[0;31mKeyboardInterrupt\u001b[0m: "
     ]
    }
   ],
   "source": [
    "affine = torch.tensor(oct.affine, dtype=torch.float64)\n",
    "\n",
    "for i in range(500):\n",
    "    print(i)\n",
    "    x, y = Augmentation().run(oct, label)\n",
    "    x = x.detach().cpu().numpy()\n",
    "    y = y.detach().cpu().numpy()\n",
    "\n",
    "    n = nib.Nifti1Image(x, affine=affine)\n",
    "    nib.save(n, f\"/autofs/cluster/octdata2/users/epc28/veritas/output/real_data/augmented/x_train/volume-{i:04d}.nii\")\n",
    "\n",
    "    n = nib.Nifti1Image(y, affine=affine)\n",
    "    nib.save(n, f\"/autofs/cluster/octdata2/users/epc28/veritas/output/real_data/augmented/y_train/volume-{i:04d}.nii\")\n"
   ]
  },
  {
   "cell_type": "code",
   "execution_count": 474,
   "metadata": {},
   "outputs": [],
   "source": [
    "import torch\n",
    "import torchvision.transforms as T\n",
    "\n",
    "# Create two fake images (identical for test purposes):\n",
    "image = oct.tensor\n",
    "target = image.clone()\n",
    "\n",
    "# This is the trick (concatenate the images):\n",
    "both_images = torch.cat((image.unsqueeze(0), target.unsqueeze(0)), 0)\n",
    "\n",
    "# Apply the transformations to both images simultaneously:\n",
    "transformed_images = T.RandomResizedCrop(180)(both_images)\n",
    "\n",
    "# Get the transformed images:\n",
    "image_trans = transformed_images[0]\n",
    "target_trans = transformed_images[1]\n",
    "\n"
   ]
  }
 ],
 "metadata": {
  "kernelspec": {
   "display_name": "vesselsynth",
   "language": "python",
   "name": "python3"
  },
  "language_info": {
   "codemirror_mode": {
    "name": "ipython",
    "version": 3
   },
   "file_extension": ".py",
   "mimetype": "text/x-python",
   "name": "python",
   "nbconvert_exporter": "python",
   "pygments_lexer": "ipython3",
   "version": "3.10.9"
  },
  "orig_nbformat": 4
 },
 "nbformat": 4,
 "nbformat_minor": 2
}

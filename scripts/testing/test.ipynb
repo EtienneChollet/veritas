{
 "cells": [
  {
   "cell_type": "code",
   "execution_count": 8,
   "metadata": {},
   "outputs": [],
   "source": [
    "import os\n",
    "import sys\n",
    "import json\n",
    "import math\n",
    "import numpy as np\n",
    "from glob import glob\n",
    "from PIL import Image\n",
    "import nibabel as nib\n",
    "\n",
    "import torch\n",
    "from torch import nn\n",
    "from torch.utils import data\n",
    "import torch.multiprocessing as mp\n",
    "\n",
    "from pytorch_lightning import Trainer\n",
    "from pytorch_lightning.loggers import TensorBoardLogger\n",
    "from pytorch_lightning.callbacks import ModelCheckpoint\n",
    "\n",
    "\n",
    "sys.path.insert(0, \"../../cornucopia\")\n",
    "import cornucopia as cc\n",
    "\n",
    "os.environ['PYTORCH_JIT_USE_NNC_NOT_NVFUSER'] = '1'\n",
    "torch.set_float32_matmul_precision('medium')\n"
   ]
  },
  {
   "cell_type": "code",
   "execution_count": 6,
   "metadata": {},
   "outputs": [],
   "source": [
    "class RealData(object):\n",
    "    def __init__(self):\n",
    "        #super().__init__(self)\n",
    "\n",
    "        self.nifti_dir = {\"oct\": \"/autofs/cluster/octdata2/users/Chao/caa/caa_17/occipital/process_run1/dBI_vessel/nii_split/I_mosaic_1_1_0.mgz\",\n",
    "                    \"prediction\": \"/autofs/cluster/octdata2/users/epc28/veritas/output/real_data/smoothed_prediction.nii.gz\"}\n",
    "        \n",
    "        self.tiff_dir = {\"oct\": \"/autofs/cluster/octdata2/users/epc28/veritas/output/real_data/tiffs/oct_tiffs\",\n",
    "                         \"prediction\": \"/autofs/cluster/octdata2/users/epc28/veritas/output/real_data/tiffs/prediction_tiffs\"}\n",
    "        \n",
    "        self.oct_or_pred = 'oct'\n",
    "        self.dtype = \"float32\"\n",
    "\n",
    "        self.tensor = cc.LoadTransform(device='cpu', to_ras=False)(self.nifti_dir[self.oct_or_pred])[None]\n",
    "        self.arr = np.array(self.tensor, dtype=self.dtype)[0][0]\n",
    "    \n",
    "\n",
    "    def makeTiffs(self):\n",
    "        nifti_used = self.nifti_dir[self.oct_or_pred]\n",
    "        tiff_used = self.tiff_dir\n",
    "        self.tensor = cc.LoadTransform(device='cpu', dtype=self.dtype, to_ras=False)(self.nifti_dir['oct'])[None]\n",
    "\n",
    "\n",
    "    def outputDirChecker(self, p):\n",
    "        if os.path.exists(p):\n",
    "            [os.remove(x) for x in glob(f'{p}/*')]\n",
    "        else:\n",
    "            os.mkdir(p)\n",
    "\n",
    "\n",
    "RD = RealData()"
   ]
  },
  {
   "cell_type": "code",
   "execution_count": 27,
   "metadata": {},
   "outputs": [],
   "source": [
    "t = RD.tensor[0][0][:][:][128]\n",
    "t = t.numpy()\n",
    "t = t / t.max()"
   ]
  },
  {
   "cell_type": "code",
   "execution_count": 29,
   "metadata": {},
   "outputs": [],
   "source": [
    "img = Image.fromarray(t).convert(\"RGB\") * 256\n",
    "img.save('/autofs/cluster/octdata2/users/epc28/veritas/output/real_data/tiffs/test.tiff')"
   ]
  },
  {
   "cell_type": "code",
   "execution_count": null,
   "metadata": {},
   "outputs": [],
   "source": []
  }
 ],
 "metadata": {
  "kernelspec": {
   "display_name": "vesselsynth",
   "language": "python",
   "name": "python3"
  },
  "language_info": {
   "codemirror_mode": {
    "name": "ipython",
    "version": 3
   },
   "file_extension": ".py",
   "mimetype": "text/x-python",
   "name": "python",
   "nbconvert_exporter": "python",
   "pygments_lexer": "ipython3",
   "version": "3.10.9"
  },
  "orig_nbformat": 4
 },
 "nbformat": 4,
 "nbformat_minor": 2
}
